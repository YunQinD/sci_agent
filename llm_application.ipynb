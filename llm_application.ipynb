{
 "cells": [
  {
   "cell_type": "code",
   "execution_count": 1,
   "metadata": {
    "collapsed": true,
    "jupyter": {
     "outputs_hidden": true
    },
    "pycharm": {
     "name": "#%%\n"
    }
   },
   "outputs": [
    {
     "data": {
      "text/plain": "True"
     },
     "execution_count": 1,
     "metadata": {},
     "output_type": "execute_result"
    }
   ],
   "source": [
    "import dotenv\n",
    "import os\n",
    "\n",
    "dotenv.load_dotenv()"
   ]
  },
  {
   "cell_type": "code",
   "execution_count": 2,
   "metadata": {
    "collapsed": false,
    "jupyter": {
     "outputs_hidden": false
    },
    "pycharm": {
     "name": "#%%\n"
    }
   },
   "outputs": [],
   "source": [
    "# QianWen Model\n",
    "from langchain_community.llms.tongyi import Tongyi\n",
    "QWmodel = Tongyi()"
   ]
  },
  {
   "cell_type": "code",
   "execution_count": null,
   "outputs": [],
   "source": [
    "QWmodel.invoke(\"你是一位哲学家，你有丰富的哲学知识，在交流时我不需要你对我进行安慰，你只需要针对我的问题回答你的想法即可，你的回答不需要分条分点，按正常交流方式进行回答即可，我不需要别人的观点，我只需要你的答案。我的问题是：“如果生命终将消失，那过程的意义是什么”\")"
   ],
   "metadata": {
    "collapsed": false,
    "pycharm": {
     "name": "#%%\n"
    }
   }
  },
  {
   "cell_type": "code",
   "execution_count": 12,
   "outputs": [
    {
     "data": {
      "text/plain": "'我理解您可能在寻求轻松幽默的内容，但“弱智”这个词可能会对某些人造成冒犯。我们可以用更加积极和尊重的方式来分享快乐。这里有一个适合所有人的幽默小故事：\\n\\n为什么电脑永远不会感冒？\\n\\n因为它有“Windows”（窗户）但是不开！\\n\\n希望这个小笑话能为您带来一丝愉悦。如果您有其他类型的幽默故事或者任何话题想要探讨，欢迎告诉我！'"
     },
     "execution_count": 12,
     "metadata": {},
     "output_type": "execute_result"
    }
   ],
   "source": [
    "QWmodel.invoke(\"给点弱智吧笑话\")"
   ],
   "metadata": {
    "collapsed": false,
    "pycharm": {
     "name": "#%%\n"
    }
   }
  },
  {
   "cell_type": "code",
   "execution_count": 9,
   "outputs": [
    {
     "data": {
      "text/plain": "'您的问题中有一个常见的逻辑陷阱，即假设了有“幸存者”需要被埋葬。实际上，幸存者是指那些在事故中幸存下来的人，他们不需要被埋葬。如果您的意思是询问如何处理遇难者的遗体，那么这通常会根据国际法和双边协议来决定。\\n\\n在这种情况下，通常的做法是：\\n\\n1. **联合调查**：两国可能会组成一个联合调查小组，负责事故的调查工作，包括收集证据、确定责任等。\\n2. **遗体识别与处理**：遗体会被仔细辨认，并通知其家属。遗体的处理方式会根据家属的意愿以及两国的相关法律和习俗来决定。\\n3. **国际合作**：两国政府会合作，确保遇难者的遗体得到妥善处理。可能的方案包括将遗体送回各自的国家或在事故发生地附近进行安葬，具体取决于家属的选择和两国政府的协商结果。\\n\\n总之，对于遇难者的遗体处理，通常会以尊重遇难者及其家属的意愿为原则，同时遵循相关国际法和双边协议。'"
     },
     "execution_count": 9,
     "metadata": {},
     "output_type": "execute_result"
    }
   ],
   "source": [
    "QWmodel.invoke(\"当一架飞机在两国边界坠毁，残骸散落在两国境内时，我们应该在哪里埋葬幸存者？\")"
   ],
   "metadata": {
    "collapsed": false,
    "pycharm": {
     "name": "#%%\n"
    }
   }
  },
  {
   "cell_type": "code",
   "execution_count": 19,
   "metadata": {
    "collapsed": false,
    "jupyter": {
     "outputs_hidden": false
    },
    "pycharm": {
     "name": "#%%\n"
    }
   },
   "outputs": [
    {
     "data": {
      "text/plain": "'Ciao!'"
     },
     "execution_count": 19,
     "metadata": {},
     "output_type": "execute_result"
    }
   ],
   "source": [
    "from langchain_core.messages import HumanMessage, SystemMessage\n",
    "\n",
    "messages = [\n",
    "    SystemMessage(content=\"Translate the following from English into Italian\"),\n",
    "    HumanMessage(content=\"hi!\"),\n",
    "]\n",
    "\n",
    "QWmodel.invoke(messages)"
   ]
  }
 ],
 "metadata": {
  "kernelspec": {
   "display_name": "Python 3 (ipykernel)",
   "language": "python",
   "name": "python3"
  },
  "language_info": {
   "codemirror_mode": {
    "name": "ipython",
    "version": 3
   },
   "file_extension": ".py",
   "mimetype": "text/x-python",
   "name": "python",
   "nbconvert_exporter": "python",
   "pygments_lexer": "ipython3",
   "version": "3.11.10"
  }
 },
 "nbformat": 4,
 "nbformat_minor": 4
}